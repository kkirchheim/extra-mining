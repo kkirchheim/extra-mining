{
 "cells": [
  {
   "cell_type": "code",
   "execution_count": null,
   "metadata": {
    "pycharm": {
     "name": "#%%\n"
    }
   },
   "outputs": [],
   "source": [
    "\"\"\"\n",
    "SVM for creating recommentdations based on read articles\n",
    "\"\"\""
   ]
  },
  {
   "cell_type": "code",
   "execution_count": null,
   "metadata": {},
   "outputs": [],
   "source": [
    "import pickle\n",
    "import pandas as pd\n",
    "import os\n",
    "import config\n",
    "\n",
    "\n",
    "df = pd.read_pickle(os.path.join(config.DIR_PROCESSED, \"tfidf-dataframe.pkl\"))"
   ]
  },
  {
   "cell_type": "code",
   "execution_count": null,
   "metadata": {},
   "outputs": [],
   "source": [
    "import numpy as np\n",
    "import scipy\n",
    "\n",
    "liked = [1,2,3,4,5,6,7,8,9,10]\n",
    "\n",
    "cols = 1000 # int(df[\"tfidf\"].values[0].shape[1])\n",
    "rows = int(len(df))\n",
    "\n",
    "print(rows, cols)\n",
    "X = scipy.sparse.csr_matrix((rows, cols), dtype=np.float32)\n",
    "y = np.zeros(len(df))\n",
    "\n",
    "for idx, ident in enumerate(df[\"id\"]):\n",
    "    if ident in liked:\n",
    "        y[idx] = 1\n",
    "    \n",
    "    v = df[\"tfidf\"].values[idx].toarray()\n",
    "    v = np.array(v)[:,:1000]\n",
    "    X[idx] = v\n",
    "    \n",
    "    if idx % 50:\n",
    "        print(f\"{idx/rows:.1%}\")"
   ]
  },
  {
   "cell_type": "code",
   "execution_count": null,
   "metadata": {},
   "outputs": [],
   "source": [
    "from sklearn import svm\n",
    "print(X)\n",
    "print(np.unique(y, return_counts=True))\n",
    "\n",
    "clf = svm.LinearSVC(max_iter=10000, random_state=0, tol=1e-5, verbose=100)\n",
    "clf.fit(X, y)\n",
    "print(np.max(clf.coef_))"
   ]
  },
  {
   "cell_type": "code",
   "execution_count": null,
   "metadata": {},
   "outputs": [],
   "source": [
    "prediction = clf.decision_function(X)\n",
    "print(prediction)"
   ]
  },
  {
   "cell_type": "code",
   "execution_count": null,
   "metadata": {},
   "outputs": [],
   "source": []
  }
 ],
 "metadata": {
  "kernelspec": {
   "display_name": "Python 3",
   "language": "python",
   "name": "python3"
  },
  "language_info": {
   "codemirror_mode": {
    "name": "ipython",
    "version": 3
   },
   "file_extension": ".py",
   "mimetype": "text/x-python",
   "name": "python",
   "nbconvert_exporter": "python",
   "pygments_lexer": "ipython3",
   "version": "3.8.1"
  }
 },
 "nbformat": 4,
 "nbformat_minor": 2
}
