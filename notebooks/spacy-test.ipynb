{
 "cells": [
  {
   "cell_type": "code",
   "execution_count": null,
   "metadata": {},
   "outputs": [],
   "source": [
    "import spacy\n",
    "import os\n",
    "import pandas as pd\n",
    "import sys\n",
    "# import nltk\n",
    "\n",
    "sys.path.insert(0, os.path.join(\"..\", \"src\"))\n",
    "import config\n",
    "\n",
    "path = os.path.join(config.DIR_PROCESSED, \"reviews.pkl\")\n",
    "df = pd.read_pickle(path)"
   ]
  },
  {
   "cell_type": "code",
   "execution_count": null,
   "metadata": {
    "pycharm": {
     "name": "#%%\n"
    }
   },
   "outputs": [],
   "source": [
    "texts = df[\"text\"]\n",
    "\n",
    "\n",
    "nlp = spacy.load('de_core_news_sm')\n",
    "for n, text in enumerate(texts):\n",
    "    doc = nlp(text.lower())\n",
    "\n",
    "    for token in doc:\n",
    "        print(token, token.lemma, token.lemma_)\n",
    "\n",
    "    if n > 100:\n",
    "        break"
   ]
  },
  {
   "cell_type": "code",
   "execution_count": null,
   "metadata": {
    "pycharm": {
     "name": "#%%\n"
    }
   },
   "outputs": [],
   "source": [
    "\n"
   ]
  }
 ],
 "metadata": {
  "kernelspec": {
   "display_name": "Python 3",
   "language": "python",
   "name": "python3"
  },
  "language_info": {
   "codemirror_mode": {
    "name": "ipython",
    "version": 2
   },
   "file_extension": ".py",
   "mimetype": "text/x-python",
   "name": "python",
   "nbconvert_exporter": "python",
   "pygments_lexer": "ipython2",
   "version": "2.7.6"
  }
 },
 "nbformat": 4,
 "nbformat_minor": 0
}
