{
 "cells": [
  {
   "cell_type": "code",
   "execution_count": null,
   "metadata": {},
   "outputs": [],
   "source": [
    "%matplotlib inline\n",
    "import pandas as pd\n",
    "import os\n",
    "import csv \n",
    "import sys\n",
    "import seaborn\n",
    "import matplotlib.pyplot as plt\n",
    "\n",
    "sys.path.append(os.path.join(\"..\", \"src\"))\n",
    "import utils\n",
    "import config \n",
    "\n",
    "\n",
    "path = os.path.join(config.DIR_PROCESSED, \"reviews.pkl\")\n",
    "df = pd.read_pickle(path)\n",
    "\n",
    "print(len(df))\n",
    "print(df.columns)\n",
    "\n",
    "not_parsable = df[~df[\"parsed_success\"]]\n",
    "print(\"Not parsable:\", len(not_parsable))\n",
    "df = utils.default_df_filter(df)\n",
    "\n",
    "print(len(df))\n",
    "def unify_title(x):\n",
    "    x = str(x)\n",
    "    if x == \"Bachelor\" or x == \"Magister\" or x == \"Diplom\":\n",
    "        return \"Master\"\n",
    "    if x == \"Unbekannt\":\n",
    "        return \"Kein Titel\"\n",
    "    if x == \"No-Title\":\n",
    "        return \"Kein Titel\"\n",
    "    return x\n",
    "\n",
    "def unity_price_unit(x):\n",
    "    if x == \"EUR,\":\n",
    "        return \"EUR\"\n",
    "    return x\n",
    "\n",
    "print(df[\"category\"].value_counts())\n",
    "\n",
    "category_map = {\n",
    "    \"AH\": \"Altenhilfe\",\n",
    "    \"BH\": \"Behindertenhilfe\",\n",
    "    \"GW\": \"Gesundheitswesen\",\n",
    "    \"JH\": \"Jugendhilfe\",\n",
    "    \"SM\": \"Sozialmanagement\",\n",
    "    \"MG\": \"Methoden & Grundlagen\",\n",
    "    \"SP\": \"Sozialpolitik und \\n-verwaltung\", # TODO??\n",
    "    \"SO\": \"Weitere Arbeitsfelder\" # Sonstige? \n",
    "}\n",
    "\n",
    "\n",
    "def preprocess_category(x):\n",
    "    if x in category_map:\n",
    "        return category_map[x]\n",
    "    elif x:\n",
    "        return x\n",
    "    return \"Unkategorisiert\"\n",
    "\n",
    "\n",
    "\n",
    "df[\"reviewer_gender\"] = df[\"reviewer_gender\"].apply(lambda x: str(x))\n",
    "df[\"reviewer_highest_title\"] = df[\"reviewer_highest_title\"].apply(unify_title)\n",
    "df[\"price_unit\"] = df[\"price_unit\"].apply(unity_price_unit)\n",
    "df[\"category\"] = df[\"category\"].apply(preprocess_category)\n",
    "\n",
    "seaborn.set()\n",
    "\n"
   ]
  },
  {
   "cell_type": "code",
   "execution_count": null,
   "metadata": {},
   "outputs": [],
   "source": [
    "df[df[\"reviewer_id\"] != 34346]"
   ]
  },
  {
   "cell_type": "code",
   "execution_count": null,
   "metadata": {},
   "outputs": [],
   "source": [
    "top_n_keywords = df.explode(\"keywords\")[\"keywords\"].value_counts()[:20].plot(kind=\"barh\", title=\"Keywords\")\n",
    "#plt.barh(top_n_keywords.index, top_n_keywords.values)\n",
    "#plt.\n",
    "plt.xlabel(\"#\")\n",
    "plt.tight_layout()\n",
    "plt.savefig(os.path.join(config.DIR_REPORT, \"top-keywords.png\"), dpi=300)\n",
    "plt.show()"
   ]
  },
  {
   "cell_type": "code",
   "execution_count": null,
   "metadata": {},
   "outputs": [],
   "source": [
    "top_n_reviewer = df[\"reviewer_name\"].value_counts()[:20]\n",
    "plt.barh(top_n_reviewer.index, top_n_reviewer.values)\n",
    "plt.title(\"Top Reviewers\")\n",
    "plt.xlabel(\"# Reviews\")\n",
    "plt.tight_layout()\n",
    "plt.savefig(os.path.join(config.DIR_REPORT, \"top-reviewers.png\"), dpi=300)\n",
    "plt.show()"
   ]
  },
  {
   "cell_type": "code",
   "execution_count": null,
   "metadata": {},
   "outputs": [],
   "source": [
    "df[\"pages\"].plot(kind=\"hist\", range=(0,1500), bins=30)\n",
    "plt.xlabel(\"# Seiten\")\n",
    "plt.ylabel(\"Häufigkeit\")\n",
    "plt.title(\"Seitenanzahl rezensierter Bücher\")\n",
    "plt.tight_layout()\n",
    "plt.savefig(os.path.join(config.DIR_REPORT, \"hist-pages.png\"), dpi=300)\n",
    "plt.show()"
   ]
  },
  {
   "cell_type": "code",
   "execution_count": null,
   "metadata": {},
   "outputs": [],
   "source": [
    "df[~pd.isnull(df[\"price\"])][\"price\"].plot(kind=\"hist\", bins=20, range=(0,100))\n",
    "plt.xlabel(\"Preis (€)\")\n",
    "plt.ylabel(\"Häufigkeit\")\n",
    "plt.title(\"Preis rezensierter Bücher\")\n",
    "plt.savefig(os.path.join(config.DIR_REPORT, \"hist-price.png\"), dpi=300)\n",
    "plt.show()"
   ]
  },
  {
   "cell_type": "code",
   "execution_count": null,
   "metadata": {},
   "outputs": [],
   "source": [
    "explode = [0.05,0.05,0.05,0.1,0.15,0.2,0.2,0.3]\n",
    "\n",
    "_ = df[\"category\"].value_counts().plot(kind=\"pie\", title=\"Themenbereiche\", explode=explode)\n",
    "plt.ylabel(\"\")\n",
    "plt.tight_layout()\n",
    "plt.savefig(os.path.join(config.DIR_REPORT, \"categories.pgf\"))\n",
    "plt.show()"
   ]
  },
  {
   "cell_type": "code",
   "execution_count": null,
   "metadata": {},
   "outputs": [],
   "source": [
    "_ = df[\"publisher\"].value_counts()[:20].plot(kind=\"barh\", figsize=(10,10))\n",
    "plt.title(\"Top Publisher\")\n",
    "plt.xlabel(\"# Reviews\")\n",
    "plt.tight_layout()\n",
    "plt.savefig(os.path.join(config.DIR_REPORT, \"publisher.png\"), dpi=300)\n",
    "plt.show()"
   ]
  },
  {
   "cell_type": "code",
   "execution_count": null,
   "metadata": {},
   "outputs": [],
   "source": [
    "df2 = df.set_index(\"date\")\n",
    "\n",
    "\n",
    "df2.resample(\"1Y\")[\"word_count\"].mean().plot(kind=\"area\")\n",
    "plt.title(\"Durchschnittliche Rezensionslänge\")\n",
    "plt.xlabel(\"\")\n",
    "plt.ylabel(\"Wörter\")\n",
    "plt.savefig(os.path.join(config.DIR_REPORT, \"review-length-ot.png\"), dpi=300)\n",
    "plt.show()\n",
    "\n",
    "\n",
    "df2.resample(\"1Y\")[\"id\"].count().plot(kind=\"area\")\n",
    "plt.title(\"Veröffentliche Rezensionen (pro Jahr)\")\n",
    "plt.xlabel(\"\")\n",
    "plt.ylabel(\"Anzahl\")\n",
    "plt.savefig(os.path.join(config.DIR_REPORT, \"published-reviews-ot.png\"), dpi=300)\n",
    "plt.show()\n",
    "\n",
    "df2[df2[\"price_unit\"] == \"EUR\"].resample(\"1Y\")[\"price\"].mean().plot(kind=\"area\")\n",
    "plt.title(\"Durchschnittlicher Preis rezensierter Publikationen\")\n",
    "plt.xlabel(\"\")\n",
    "plt.ylabel(\"Preis in €\")\n",
    "plt.savefig(os.path.join(config.DIR_REPORT, \"proce-ot.png\"), dpi=300)\n",
    "plt.show()\n",
    "\n",
    "df2.resample(\"1Y\")[\"pages\"].mean().plot(kind=\"area\")\n",
    "plt.title(\"Durchschnittlicher Umfang rezensierter Publikationen\")\n",
    "plt.xlabel(\"\")\n",
    "plt.ylabel(\"Seiten\")\n",
    "plt.savefig(os.path.join(config.DIR_REPORT, \"pages-ot.png\"), dpi=300)\n",
    "plt.show()"
   ]
  },
  {
   "cell_type": "code",
   "execution_count": null,
   "metadata": {},
   "outputs": [],
   "source": [
    "df2.resample(\"1Y\")[\"word_count\"].mean().head(n=100)"
   ]
  },
  {
   "cell_type": "code",
   "execution_count": null,
   "metadata": {},
   "outputs": [],
   "source": [
    "fig, axs = plt.subplots(1,2, sharey=True, figsize=(10,5))\n",
    "df[\"reviewer_gender\"].value_counts().plot(kind=\"pie\", ax=axs[0],  fontsize=15, autopct='%1.1f%%',)\n",
    "\n",
    "df[\"reviewer_highest_title\"].value_counts().sort_index().plot(kind=\"pie\", ax=axs[1], colors=[\"C1\", \"C3\", \"C2\", \"C0\"], fontsize=15, autopct='%1.1f%%')\n",
    "axs[0].set_ylabel('')\n",
    "plt.tight_layout()\n",
    "plt.savefig(os.path.join(config.DIR_REPORT, \"title-and-gender.png\"), bbox_inches='tight', dpi=300)\n",
    "plt.show()\n",
    "\n",
    "print(df[\"reviewer_gender\"].value_counts(normalize=True))"
   ]
  },
  {
   "cell_type": "code",
   "execution_count": null,
   "metadata": {},
   "outputs": [],
   "source": [
    "for date, group in df2[\"reviewer_gender\"].groupby(by=[df2.index.year]):\n",
    "    print(date)\n",
    "    group.value_counts().plot(kind=\"pie\", title=date, figsize=(5,5))\n",
    "    plt.ylabel('')\n",
    "    plt.show()\n",
    "    \n",
    "# mydf.head().value_counts()"
   ]
  },
  {
   "cell_type": "code",
   "execution_count": null,
   "metadata": {},
   "outputs": [],
   "source": [
    "_ = df.plot(kind=\"scatter\", x=\"word_count\", y=\"price\", marker=\"x\")\n",
    "plt.show()"
   ]
  },
  {
   "cell_type": "code",
   "execution_count": null,
   "metadata": {},
   "outputs": [],
   "source": [
    "# print(df[\"price_unit\"].unique())\n",
    "df_reviewers = df[df[\"price_unit\"] == \"EUR\"].set_index(\"reviewer_name\")\n",
    "_ = df_reviewers.groupby(by=\"reviewer_name\")[\"price\"].mean().sort_values(ascending=False)[:20].plot(kind=\"barh\", figsize=(10,10))"
   ]
  },
  {
   "cell_type": "code",
   "execution_count": null,
   "metadata": {},
   "outputs": [],
   "source": [
    "print(df[df[\"reviewer_gender\"] == \"Weiblich\"][\"word_count\"].mean())\n",
    "print(df[df[\"reviewer_gender\"] == \"Männlich\"][\"word_count\"].mean())\n",
    "\n",
    "\n",
    "\n",
    "df[\"word_count\"].plot(kind=\"hist\", bins=30, range=(0,4500))\n",
    "plt.xlabel(\"Wortanzahl\")\n",
    "plt.ylabel(\"Häufigkeit\")\n",
    "plt.savefig(os.path.join(config.DIR_REPORT, \"word_count.png\"), dpi=300)\n",
    "plt.savefig(os.path.join(config.DIR_REPORT, \"word_count.pgf\"), dpi=300)\n",
    "plt.show()\n",
    "\n",
    "df[df[\"reviewer_gender\"] == \"Weiblich\"][\"word_count\"].plot(kind=\"hist\", bins=30, range=(0,4500), title=\"Weiblich\")\n",
    "plt.xlabel(\"Wortanzahl\")\n",
    "plt.show()\n",
    "\n",
    "df[df[\"reviewer_gender\"] == \"Männlich\"][\"word_count\"].plot(kind=\"hist\", bins=30, range=(0,4500), title=\"Männlich\")\n",
    "plt.xlabel(\"Wortanzahl\")\n",
    "plt.show()"
   ]
  },
  {
   "cell_type": "code",
   "execution_count": null,
   "metadata": {},
   "outputs": [],
   "source": [
    "# colors = df[\"reviewer_highest_title\"].apply(colormap)\n",
    "ax = df[df[\"reviewer_highest_title\"] == \"Professor\"].plot(kind=\"scatter\", x=\"pages\", y=\"word_count\", marker=\"x\", figsize=(15,15), xlim=(0,3000), ylim=(0,5000), c=\"C0\", label=\"Peofessor\")\n",
    "df[df[\"reviewer_highest_title\"] == \"Doktor\"].plot(kind=\"scatter\", x=\"pages\", y=\"word_count\", marker=\"x\", figsize=(15,15), xlim=(0,3000), ylim=(0,5000),  ax=ax, c=\"C1\", label=\"Doktor\")\n",
    "df[df[\"reviewer_highest_title\"] == \"Unbekannt\"].plot(kind=\"scatter\", x=\"pages\", y=\"word_count\", marker=\"x\", ax=ax, figsize=(15,15), xlim=(0,3000), ylim=(0,5000), c=\"C3\", label=\"Unbekannt\")\n",
    "df[df[\"reviewer_highest_title\"] == \"Master\"].plot(kind=\"scatter\", x=\"pages\", y=\"word_count\", marker=\"x\", figsize=(15,15), xlim=(0,3000), ylim=(0,5000),  ax=ax, c=\"C2\", label=\"Master\")\n",
    "plt.savefig(os.path.join(config.DIR_REPORT, \"wordcount-vs-pages.png\"), dpi=300)\n",
    "plt.show()"
   ]
  },
  {
   "cell_type": "code",
   "execution_count": null,
   "metadata": {},
   "outputs": [],
   "source": [
    "print(df[(df[\"reviewer_gender\"] == \"Weiblich\") & (df[\"price_unit\"] == \"EUR\")][\"price\"].mean())\n",
    "print(df[(df[\"reviewer_gender\"] == \"Weiblich\") & (df[\"price_unit\"] == \"EUR\")][\"price\"].mean())\n",
    "# print(df[df[\"reviewer_gender\"] == \"Männlich\"][df[\"price_unit\"] == \"EUR\"][\"price\"].mean())"
   ]
  },
  {
   "cell_type": "code",
   "execution_count": null,
   "metadata": {},
   "outputs": [],
   "source": [
    "\n",
    "ax = df[(df[\"reviewer_highest_title\"] == \"Professor\") & (df[\"price_unit\"] == \"EUR\")].plot(kind=\"scatter\", x=\"pages\", y=\"price\", marker=\"x\", figsize=(15,15), xlim=(0,800), ylim=(0,150), c=\"C0\", label=\"Peofessor\")\n",
    "ax = df[(df[\"reviewer_highest_title\"] == \"Doktor\") & (df[\"price_unit\"] == \"EUR\")].plot(kind=\"scatter\", x=\"pages\", y=\"price\", marker=\"x\", ax=ax, figsize=(15,15), xlim=(0,800), ylim=(0,150), c=\"C1\", label=\"Doktor\")\n",
    "ax = df[(df[\"reviewer_highest_title\"] == \"Unbekannt\") & (df[\"price_unit\"] == \"EUR\")].plot(kind=\"scatter\", x=\"pages\", y=\"price\", marker=\"x\", ax=ax, figsize=(15,15), xlim=(0,800), ylim=(0,150), c=\"C2\", label=\"Unbekannt\")\n",
    "ax = df[(df[\"reviewer_highest_title\"] == \"Master\") & (df[\"price_unit\"] == \"EUR\")].plot(kind=\"scatter\", x=\"pages\", y=\"price\", marker=\"x\", ax=ax, figsize=(15,15), xlim=(0,800), ylim=(0,150), c=\"C3\", label=\"Master\")\n",
    "plt.show()\n",
    "\n",
    "#df[df[\"reviewer_highest_title\"] == \"Doktor\"][df[\"price_unit\"] == \"EUR\"].plot(kind=\"scatter\", x=\"pages\", y=\"word_count\", marker=\"x\", figsize=(15,15), xlim=(0,3000), ylim=(0,5000),  ax=ax, c=\"C1\", label=\"Doktor\")\n",
    "#df[df[\"reviewer_highest_title\"] == \"Diplom\"][df[\"price_unit\"] == \"EUR\"].plot(kind=\"scatter\", x=\"pages\", y=\"word_count\", marker=\"x\", figsize=(15,15), xlim=(0,3000), ylim=(0,5000),  ax=ax, c=\"C2\", label=\"Diplom\")\n",
    "\n",
    "\n",
    "#color=df[df[\"price_unit\"] == \"EUR\"][\"reviewer_highest_title\"]\n",
    "#df[df[\"price_unit\"] == \"EUR\"].plot(kind=\"scatter\", x=\"pages\", y=\"price\", marker=\"x\", color=color, figsize=(15,15), xlim=(0,1000), ylim=(0,150))\n",
    "\n",
    "# [df[\"price\"] == \"EUR\"]"
   ]
  },
  {
   "cell_type": "code",
   "execution_count": null,
   "metadata": {},
   "outputs": [],
   "source": [
    "df.sort_values(by=\"price\", ascending=False)[[\"title\", \"price\", \"pages\", \"isbn\", \"price_unit\"]].head(10)"
   ]
  },
  {
   "cell_type": "code",
   "execution_count": null,
   "metadata": {},
   "outputs": [],
   "source": [
    "def process_text(x):\n",
    "    x = x.lower()\n",
    "    for c in \".!?,–\\\"',-()[]{}„…\":\n",
    "        x = x.replace(c, \"\")\n",
    "     \n",
    "    x = [v for v in x.split() if len(v) > 1]\n",
    "    \n",
    "    return x\n",
    "\n",
    "# df[\"text\"].head(20)\n",
    "\n",
    "words = df[\"text\"].apply(process_text).explode().value_counts()"
   ]
  },
  {
   "cell_type": "code",
   "execution_count": null,
   "metadata": {},
   "outputs": [],
   "source": [
    "words[:50].plot(kind=\"bar\", figsize=(10,10))\n",
    "plt.title(\"Häufigkeit von Wörter in Reviews\")\n",
    "plt.xlabel(\"Wort\")\n",
    "plt.ylabel(\"Häufigkeit\")"
   ]
  },
  {
   "cell_type": "code",
   "execution_count": null,
   "metadata": {},
   "outputs": [],
   "source": [
    "import numpy as np\n",
    "df.groupby(by=\"reviewer_name\")[\"pages\"].sum().sort_values(ascending=False)[:10].plot(kind=\"barh\")\n",
    "plt.ylabel(\"\")\n",
    "plt.xticks([0,100000, 200000, 300000,400000], labels=[\"0\", \"100k\", \"200k\", \"300k\", \"400k\"])\n",
    "plt.title(\"Akkumulierte Seitenanzahl\")\n",
    "plt.xlabel(\"# Seiten\")\n",
    "plt.savefig(os.path.join(config.DIR_REPORT, \"accumulated-pages.png\"), dpi=300)\n",
    "plt.show()"
   ]
  },
  {
   "cell_type": "code",
   "execution_count": null,
   "metadata": {},
   "outputs": [],
   "source": [
    "import numpy as np\n",
    "df.groupby(by=\"reviewer_name\")[\"pages\"].sum().sort_values(ascending=False)[:10].apply(lambda x: (x / (20*356))).plot(kind=\"barh\")\n",
    "plt.ylabel(\"\")\n",
    "#plt.xticks([0,100000, 200000, 300000,400000])\n",
    "plt.title(\"Durschnittliche Seitenanzahl (20 Jahre)\")\n",
    "plt.xlabel(\"Seiten / Tag\")\n",
    "plt.savefig(os.path.join(config.DIR_REPORT, \"mean-pages.png\"), dpi=300)\n",
    "plt.show()"
   ]
  },
  {
   "cell_type": "code",
   "execution_count": null,
   "metadata": {},
   "outputs": [],
   "source": [
    "df.boxplot(by='reviewer_gender',  column=\"word_count\", showfliers=False)\n",
    "plt.title(\"Länge der Rezensionen\")\n",
    "plt.xlabel(\"\")\n",
    "plt.ylabel(\"Wörter\")\n",
    "plt.suptitle(\"\")\n",
    "plt.tight_layout()\n",
    "plt.savefig(os.path.join(config.DIR_REPORT, \"boxplots-review-length-gender.jpg\"), dpi=300)\n",
    "plt.show()\n",
    "\n",
    "df.boxplot(by='reviewer_highest_title', column=\"word_count\", showfliers=False)\n",
    "plt.title(\"Länge der Rezensionen\")\n",
    "plt.xlabel(\"\")\n",
    "plt.ylabel(\"Wörter\")\n",
    "plt.suptitle(\"\")\n",
    "plt.tight_layout()\n",
    "plt.savefig(os.path.join(config.DIR_REPORT, \"boxplots-review-length-title.jpg\"), dpi=300)\n",
    "plt.show()"
   ]
  },
  {
   "cell_type": "code",
   "execution_count": null,
   "metadata": {},
   "outputs": [],
   "source": [
    "n = len(df[df[\"price_unit\"] == \"EUR\"])\n",
    "\n",
    "df[df[\"price_unit\"] == \"EUR\"].boxplot(by='reviewer_gender', column=\"price\",showfliers=False)\n",
    "plt.title(f\"Preis rezensierter Publikationen ({n})\")\n",
    "plt.xlabel(\"\")\n",
    "plt.ylabel(\"Preis in €\")\n",
    "plt.suptitle(\"\")\n",
    "plt.tight_layout()\n",
    "plt.savefig(os.path.join(config.DIR_REPORT, \"boxplots-gender.jpg\"), dpi=300)\n",
    "plt.show()\n",
    "\n",
    "df[df[\"price_unit\"] == \"EUR\"].boxplot(by='reviewer_highest_title', column=\"price\",showfliers=False)\n",
    "plt.title(\"Preis rezensierter Publikationen\")\n",
    "plt.ylabel(\"Preis in €\")\n",
    "plt.xlabel(\"\")\n",
    "plt.suptitle(\"\")\n",
    "plt.tight_layout()\n",
    "plt.savefig(os.path.join(config.DIR_REPORT, \"boxplots-price-title.jpg\"), dpi=300)\n",
    "plt.show()"
   ]
  },
  {
   "cell_type": "code",
   "execution_count": null,
   "metadata": {},
   "outputs": [],
   "source": [
    "df.boxplot(by='reviewer_gender',  column=\"pages\", showfliers=False)\n",
    "plt.title(\"Umfang rezensierter Publikationen\")\n",
    "plt.xlabel(\"\")\n",
    "plt.ylabel(\"Seiten\")\n",
    "plt.suptitle(\"\")\n",
    "plt.tight_layout()\n",
    "plt.savefig(os.path.join(config.DIR_REPORT, \"boxplots-pagesh-gender.jpg\"), dpi=300)\n",
    "plt.show()\n",
    "\n",
    "df.boxplot(by='reviewer_highest_title', column=\"pages\", showfliers=False)\n",
    "plt.title(\"Umfang rezensierter Publikationen\")\n",
    "plt.xlabel(\"\")\n",
    "plt.ylabel(\"Seiten\")\n",
    "plt.suptitle(\"\")\n",
    "plt.tight_layout()\n",
    "plt.savefig(os.path.join(config.DIR_REPORT, \"boxplots-pages-title.jpg\"), dpi=300)\n",
    "plt.show()"
   ]
  },
  {
   "cell_type": "code",
   "execution_count": null,
   "metadata": {},
   "outputs": [],
   "source": [
    "#df2 = pd.DataFrame()\n",
    "\n",
    "#ax  = df[df[\"reviewer_gender\"] == \"Männlich\"].groupby(\"reviewer_id\")[\"id\"].count().plot(kind=\"box\", showfliers=False)\n",
    "#df2[\"Weiblich\"] = df[df[\"reviewer_gender\"] == \"Weiblich\"].groupby(\"reviewer_id\")[\"id\"].count().plot(kind=\"box\", ax=ax, showfliers=False)\n",
    "#df2[\"Unbekannt\"] = df[df[\"reviewer_gender\"] == \"Unbekannt\"].groupby(\"reviewer_id\")[\"id\"].count()\n",
    "\n",
    "\n",
    "# df.boxplot(by='reviewer_gender',  column=\"word_count\", showfliers=False)\n",
    "\n",
    "#df.boxplot(by='reviewer_name',  column=\"word_count\", showfliers=False)\n",
    "\n",
    "# df.resample(\"1Y\")[\"id\"].count().plot(kind=\"area\")\n",
    "# plt.title(\"Veröffentliche Rezensionen (pro Jahr)\")\n",
    "# plt.xlabel(\"\")\n",
    "# plt.ylabel(\"Anzahl\")\n",
    "# plt.savefig(os.path.join(config.DIR_REPORT, \"published-reviews-ot.png\"), dpi=300)\n",
    "# plt.show()\n",
    "\n",
    "\n",
    "\n",
    "# df.boxplot(by='reviewer_gender',  column=\"word_count\", showfliers=False)\n",
    "# plt.title(\"Länge der Rezensionen\")\n",
    "# plt.xlabel(\"\")\n",
    "# plt.ylabel(\"Wörter\")\n",
    "# plt.suptitle(\"\")\n",
    "# plt.tight_layout()\n",
    "# plt.savefig(os.path.join(config.DIR_REPORT, \"boxplots-review-length-gender.jpg\"), dpi=300)\n",
    "# plt.show()\n",
    "\n",
    "# df.boxplot(by='reviewer_highest_title', column=\"word_count\", showfliers=False)\n",
    "# plt.title(\"Länge der Rezensionen\")\n",
    "# plt.xlabel(\"\")\n",
    "# plt.ylabel(\"Wörter\")\n",
    "# plt.suptitle(\"\")\n",
    "# plt.tight_layout()\n",
    "# plt.savefig(os.path.join(config.DIR_REPORT, \"boxplots-review-length-title.jpg\"), dpi=300)\n",
    "# plt.show()"
   ]
  },
  {
   "cell_type": "code",
   "execution_count": null,
   "metadata": {},
   "outputs": [],
   "source": [
    "print(df[df[\"price_unit\"] == \"EUR\"].groupby(by=\"reviewer_gender\")[[\"price\"]].mean())\n",
    "print(df[df[\"price_unit\"] == \"EUR\"].groupby(by=\"reviewer_gender\")[[\"price\"]].std())\n",
    "print(df[df[\"price_unit\"] == \"EUR\"].groupby(by=\"reviewer_gender\")[[\"price\"]].median())"
   ]
  },
  {
   "cell_type": "code",
   "execution_count": null,
   "metadata": {},
   "outputs": [],
   "source": [
    "# .plot(kind=\"box\")\n",
    "\n",
    "# colors=[\"C0\", \"C1\", \"C3\", \"C2\"], labels=[\"Professor\", \"Doktor\", \"Unbekannt\", \"Master/\\nDiplom/\\nMagister\"])\n",
    "    \n",
    "colors=[\"C1\", \"C3\", \"C2\", \"C0\"]\n",
    "\n",
    "\n",
    "for n, g in df.groupby(by=\"reviewer_gender\")[\"reviewer_highest_title\"]:\n",
    "    print(g.value_counts(normalize=True).sort_index())\n",
    "    \n",
    "\n",
    "    ## \n",
    "    \n",
    "    g.value_counts(normalize=True, sort=False).sort_index().plot(kind=\"pie\", colors=[\"C1\", \"C3\", \"C2\", \"C0\"])\n",
    "    plt.title(n)\n",
    "    plt.ylabel(\"\")\n",
    "    plt.show()\n",
    "    # val.plot(kind=\"bar\")"
   ]
  },
  {
   "cell_type": "code",
   "execution_count": null,
   "metadata": {
    "jupyter": {
     "outputs_hidden": false
    },
    "pycharm": {
     "name": "#%%\n"
    }
   },
   "outputs": [],
   "source": [
    "df.explode(\"keywords\")[\"keywords\"].value_counts().head(n=10)"
   ]
  },
  {
   "cell_type": "code",
   "execution_count": null,
   "metadata": {
    "jupyter": {
     "outputs_hidden": false
    },
    "pycharm": {
     "name": "#%%\n"
    }
   },
   "outputs": [],
   "source": [
    "n_reviews = len(df)\n",
    "print(n_reviews)\n",
    "exploded = df.explode(\"keywords\")\n",
    "keywords = exploded[\"keywords\"].unique()\n",
    "n_keywords = len(keywords)\n",
    "print(n_keywords)\n",
    "\n",
    "for keyword in keywords[:5]:\n",
    "    idxs = exploded[\"keywords\"] == keyword\n",
    "    sel = exploded[idxs]\n",
    "    c = sel[[\"reviewer_gender\", \"keywords\"]].groupby(by=\"reviewer_gender\").count()\n",
    "    \n",
    "    for p in c.values:\n",
    "        print(p)\n",
    "    #print(c)\n",
    "    #print(keyword, len(sel))"
   ]
  },
  {
   "cell_type": "code",
   "execution_count": null,
   "metadata": {},
   "outputs": [],
   "source": []
  },
  {
   "cell_type": "code",
   "execution_count": null,
   "metadata": {},
   "outputs": [],
   "source": [
    "n_reviews = len(df)\n",
    "print(n_reviews)\n",
    "exploded = df.explode(\"keywords\")\n",
    "keywords = exploded[\"keywords\"].unique()\n",
    "n_keywords = len(keywords)\n",
    "print(n_keywords)\n",
    "\n",
    "for keyword in keywords[:5]:\n",
    "    idxs = exploded[\"keywords\"] == keyword\n",
    "    sel = exploded[idxs]\n",
    "    c = sel[[\"reviewer_gender\", \"keywords\"]].groupby(by=\"reviewer_gender\").count()\n",
    "    \n",
    "    for p in c.values:\n",
    "        print(p)\n",
    "    #print(c)\n",
    "    #print(keyword, len(sel))"
   ]
  },
  {
   "cell_type": "code",
   "execution_count": null,
   "metadata": {},
   "outputs": [],
   "source": []
  }
 ],
 "metadata": {
  "kernelspec": {
   "display_name": "data-science",
   "language": "python",
   "name": "data-science"
  },
  "language_info": {
   "codemirror_mode": {
    "name": "ipython",
    "version": 3
   },
   "file_extension": ".py",
   "mimetype": "text/x-python",
   "name": "python",
   "nbconvert_exporter": "python",
   "pygments_lexer": "ipython3",
   "version": "3.8.3"
  }
 },
 "nbformat": 4,
 "nbformat_minor": 4
}
