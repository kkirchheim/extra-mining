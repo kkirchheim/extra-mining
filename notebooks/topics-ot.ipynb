{
 "cells": [
  {
   "cell_type": "code",
   "execution_count": null,
   "metadata": {},
   "outputs": [],
   "source": [
    "import os \n",
    "import sys\n",
    "import pandas as pd\n",
    "import matplotlib.pyplot as plt\n",
    "import seaborn as sb\n",
    "\n",
    "sb.set()\n",
    "\n",
    "sys.path.append(os.path.join(\"..\", \"src\"))\n",
    "import utils\n",
    "import config \n",
    "\n",
    "\n",
    "path = os.path.join(config.DIR_PROCESSED, \"topics.csv\")\n",
    "df = pd.read_csv(path)"
   ]
  },
  {
   "cell_type": "code",
   "execution_count": null,
   "metadata": {},
   "outputs": [],
   "source": [
    "df"
   ]
  },
  {
   "cell_type": "code",
   "execution_count": null,
   "metadata": {},
   "outputs": [],
   "source": [
    "topics = df[\"name\"].unique()[:5]\n",
    "\n",
    "\n",
    "plt.figure(figsize=(16,9))\n",
    "\n",
    "print(topics)\n",
    "\n",
    "for topic in topics:\n",
    "    t = df[df[\"name\"] == topic]\n",
    "    dates = t[\"date\"].apply(lambda x: x[5:])\n",
    "    values = t[\"ratio\"].apply(lambda x: x * 100)\n",
    "    \n",
    "    plt.plot(dates, values, label=topic, marker=\"o\")\n",
    "\n",
    "plt.ylim((0,8))\n",
    "plt.xlabel(\"Jahr\")\n",
    "plt.ylabel(\"Relative Häufigkeit in %\")\n",
    "plt.legend(title=\"Topics\") # , bbox_to_anchor=(1.15, 1.0\n",
    "plt.tight_layout()\n",
    "plt.show()"
   ]
  },
  {
   "cell_type": "code",
   "execution_count": null,
   "metadata": {},
   "outputs": [],
   "source": [
    "topics = df[\"name\"].unique()[5:]\n",
    "\n",
    "\n",
    "plt.figure(figsize=(16,9))\n",
    "\n",
    "print(topics)\n",
    "\n",
    "for topic in topics:\n",
    "    t = df[df[\"name\"] == topic]\n",
    "    dates = t[\"date\"].apply(lambda x: x[5:])\n",
    "    values = t[\"ratio\"].apply(lambda x: x * 100)\n",
    "    \n",
    "    plt.plot(dates, values, label=topic, marker=\"o\")\n",
    "\n",
    "plt.ylim((0,8))\n",
    "plt.xlabel(\"Jahr\")\n",
    "plt.ylabel(\"Relative Häufigkeit in %\")\n",
    "plt.legend(title=\"Topics\") # , bbox_to_anchor=(1.15, 1.0\n",
    "plt.tight_layout()\n",
    "plt.show()"
   ]
  },
  {
   "cell_type": "code",
   "execution_count": null,
   "metadata": {},
   "outputs": [],
   "source": []
  },
  {
   "cell_type": "code",
   "execution_count": null,
   "metadata": {},
   "outputs": [],
   "source": []
  }
 ],
 "metadata": {
  "kernelspec": {
   "display_name": "data-science",
   "language": "python",
   "name": "data-science"
  },
  "language_info": {
   "codemirror_mode": {
    "name": "ipython",
    "version": 3
   },
   "file_extension": ".py",
   "mimetype": "text/x-python",
   "name": "python",
   "nbconvert_exporter": "python",
   "pygments_lexer": "ipython3",
   "version": "3.8.3"
  }
 },
 "nbformat": 4,
 "nbformat_minor": 4
}
